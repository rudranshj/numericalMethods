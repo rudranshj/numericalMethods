{
 "cells": [
  {
   "cell_type": "markdown",
   "metadata": {},
   "source": [
    "# Non-linear regression | Gauss Newton Algorithm\n",
    "\n",
    "Author: Rudransh Jaiswal"
   ]
  },
  {
   "cell_type": "code",
   "execution_count": 1,
   "metadata": {},
   "outputs": [],
   "source": [
    "import numpy as np\n",
    "import math\n",
    "pi=np.pi\n",
    "e=np.e"
   ]
  },
  {
   "cell_type": "markdown",
   "metadata": {},
   "source": [
    "## Gauss Newton Algorithm\n",
    " It is known that $ \\hat y = f(\\bar A,x);\\quad A=[a,b,c..]$\n",
    " \n",
    " Given some values of x and y, we have to find estimate of $\\bar A$, but the equation cannot be linearised and hence the usual least square (min. L2-norm) cannot be applied.\n",
    " \n",
    " We solve it iteratively:\n",
    " 1. Initialise $\\bar A$ to some constant.\n",
    " 2. Calculate Jacobian\n",
    " $ Z = \\begin{bmatrix}\n",
    "\\frac{\\partial f}{\\partial a}\\Bigr\\rvert_{x1} & \\frac{\\partial f}{\\partial b}\\Bigr\\rvert_{x1} & \\frac{\\partial f}{\\partial c}\\Bigr\\rvert_{x1}\\\\\n",
    "\\frac{\\partial f}{\\partial a}\\Bigr\\rvert_{x2} & \\frac{\\partial f}{\\partial b}\\Bigr\\rvert_{x2} & \\frac{\\partial f}{\\partial c}\\Bigr\\rvert_{x2}\\\\\n",
    ". & . & .\n",
    "\\end{bmatrix} $\n",
    " \n",
    " 3. Solve $ Z^TZ \\Delta A = Z^T \\Delta Y; \\quad \\Delta Y = Y-\\hat Y$\n",
    " 4. Update $A=A+\\Delta A$\n",
    " 5. Iterate until convergence"
   ]
  },
  {
   "cell_type": "code",
   "execution_count": 2,
   "metadata": {},
   "outputs": [],
   "source": [
    "# X : independent variable\n",
    "# Y : dependent variable\n",
    "# A: design variable\n",
    "# y_pred: function: returns Y^ given some A\n",
    "# J: function to calculate Jacobian Z\n",
    "\n",
    "\n",
    "def GNA(A,X,Y,y_pred,J,n_iters):\n",
    "    for n in range(n_iters):\n",
    "        print('\\n# ITERATION:',n+1)\n",
    "        dY=[]\n",
    "        Z=[]\n",
    "        for i in range(len(X)):\n",
    "            dY.append(Y[i]-y_pred(A,X[i]))\n",
    "            Z.append(J(A,X[i])) \n",
    "        \n",
    "        dY=np.array(dY)\n",
    "        Z=np.array(Z)\n",
    "        Q=np.matmul(Z.T,Z)\n",
    "        det=np.linalg.det(Q)\n",
    "        Qinv=np.linalg.inv(Q)\n",
    "        R=np.matmul(Z.T,dY)\n",
    "        dA=np.matmul(Qinv,R)\n",
    "        print('Y_pred:',Y-dY)\n",
    "        print('dY:',dY)\n",
    "        print('Z:\\n',Z)\n",
    "        print('Z.T Z:\\n',Q)\n",
    "        print('det::',det)\n",
    "        print('inv(Z.T Z):\\n',Qinv)\n",
    "        print('Z.T dY:',R)\n",
    "        print('dA:',dA)\n",
    "        Anew=A+dA\n",
    "        print('Anew:',Anew)\n",
    "        rel_err=[]\n",
    "        for j in range(len(A)):\n",
    "            rel_err.append((Anew[j]-A[j])/A[j])\n",
    "        print('errors:',rel_err)\n",
    "        A=Anew"
   ]
  },
  {
   "cell_type": "markdown",
   "metadata": {},
   "source": [
    "- Given a solution to a equation in heat transfer\n",
    "\n",
    "$\\hat y = a*erf(b/t); \\quad erf: error function$\n",
    "\n",
    "Solving it using Gauss-Newton Algorithm"
   ]
  },
  {
   "cell_type": "code",
   "execution_count": 3,
   "metadata": {},
   "outputs": [
    {
     "name": "stdout",
     "output_type": "stream",
     "text": [
      "\n",
      "# ITERATION: 1\n",
      "Y_pred: [36.33391609 32.71107069 30.31156827 28.26379996 26.17889736 25.08602053]\n",
      "dY: [9.58608391 8.89892931 7.55843173 6.83620004 6.51110264 6.20397947]\n",
      "Z:\n",
      " [[0.72667832 3.99735528]\n",
      " [0.65422141 4.0194144 ]\n",
      " [0.60623137 3.94168759]\n",
      " [0.565276   3.82813671]\n",
      " [0.52357795 3.67432921]\n",
      " [0.50172041 3.58007223]]\n",
      "Z.T Z:\n",
      " [[ 2.1689777  13.80789991]\n",
      " [13.80789991 88.64368541]]\n",
      "det:: 1.6080772892658362\n",
      "inv(Z.T Z):\n",
      " [[55.12402047 -8.58658971]\n",
      " [-8.58658971  1.3488019 ]]\n",
      "Z.T dY: [ 27.75610056 176.18498187]\n",
      "dA: [17.19970285 -0.69160926]\n",
      "Anew: [67.19970285  5.30839074]\n",
      "errors: [0.34399405691591256, -0.115268209571506]\n",
      "\n",
      "# ITERATION: 2\n",
      "Y_pred: [44.8586359  40.03718197 36.92301373 34.304997   31.6711476  30.30170552]\n",
      "dY: [1.0613641  1.57281803 0.94698627 0.795003   1.0188524  0.98829448]\n",
      "Z:\n",
      " [[0.66754218 6.12040688]\n",
      " [0.59579403 5.94968005]\n",
      " [0.54945204 5.73308999]\n",
      " [0.51049328 5.49755563]\n",
      " [0.47129892 5.21789355]\n",
      " [0.45092023 5.05735695]]\n",
      "Z.T Z:\n",
      " [[  1.78853575  18.32658899]\n",
      " [ 18.32658899 188.75278425]]\n",
      "det:: 1.7272391021982987\n",
      "inv(Z.T Z):\n",
      " [[109.28005509 -10.61033702]\n",
      " [-10.61033702   1.03548823]]\n",
      "Z.T dY: [ 3.49757414 35.96789624]\n",
      "dA: [0.58359384 0.13389266]\n",
      "Anew: [67.78329669  5.4422834 ]\n",
      "errors: [0.00868447058591517, 0.02522283366796163]\n"
     ]
    }
   ],
   "source": [
    "def y_pred(A,t): return A[0]*math.erf(A[1]/math.sqrt(t))\n",
    "def dfda(A,t): return math.erf(A[1]/math.sqrt(t))\n",
    "def dfdb(A,t): return (2*A[0]/((pi*t)**0.5))*(pow(e,-A[1]*A[1]/t))\n",
    "def J01(A,t): return [dfda(A,t),dfdb(A,t)]\n",
    "\n",
    "X=np.array([60,81,99,118,142,157])\n",
    "Y=np.array([45.92,41.61 ,37.87, 35.10, 32.69 ,31.29])\n",
    "A0=np.array([50,6])\n",
    "\n",
    "GNA(A0,X,Y,y_pred,J01,n_iters=2)"
   ]
  },
  {
   "cell_type": "code",
   "execution_count": null,
   "metadata": {},
   "outputs": [],
   "source": []
  }
 ],
 "metadata": {
  "kernelspec": {
   "display_name": "Python 3",
   "language": "python",
   "name": "python3"
  },
  "language_info": {
   "codemirror_mode": {
    "name": "ipython",
    "version": 3
   },
   "file_extension": ".py",
   "mimetype": "text/x-python",
   "name": "python",
   "nbconvert_exporter": "python",
   "pygments_lexer": "ipython3",
   "version": "3.7.6"
  }
 },
 "nbformat": 4,
 "nbformat_minor": 4
}
