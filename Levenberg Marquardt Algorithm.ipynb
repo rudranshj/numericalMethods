{
 "cells": [
  {
   "cell_type": "markdown",
   "metadata": {},
   "source": [
    "# Non-linear regression | Levenberg Marquardt Algorithm\n",
    "\n",
    "Author: Rudransh Jaiswal"
   ]
  },
  {
   "cell_type": "code",
   "execution_count": 3,
   "metadata": {},
   "outputs": [],
   "source": [
    "import numpy as np\n",
    "import math\n",
    "pi=np.pi\n",
    "e=np.e"
   ]
  },
  {
   "cell_type": "markdown",
   "metadata": {},
   "source": [
    "## Levenberg-Marquardt Algorithm\n",
    " It is known that $ \\hat y = f(\\bar A,x);\\quad A=[a,b,c..]$\n",
    " \n",
    " Given some values of x and y, we have to find estimate of $\\bar A$, but the equation cannot be linearised and hence the usual least square (min. L2-norm) cannot be applied.\n",
    " \n",
    " We solve it iteratively:\n",
    " 1. Initialise $\\bar A$ to some constant.\n",
    " 2. Calculate Jacobian\n",
    " $ Z = \\begin{bmatrix}\n",
    "\\frac{\\partial f}{\\partial a}\\Bigr\\rvert_{x1} & \\frac{\\partial f}{\\partial b}\\Bigr\\rvert_{x1} & \\frac{\\partial f}{\\partial c}\\Bigr\\rvert_{x1}\\\\\n",
    "\\frac{\\partial f}{\\partial a}\\Bigr\\rvert_{x2} & \\frac{\\partial f}{\\partial b}\\Bigr\\rvert_{x2} & \\frac{\\partial f}{\\partial c}\\Bigr\\rvert_{x2}\\\\\n",
    ". & . & .\n",
    "\\end{bmatrix} $\n",
    " \n",
    " 3. Solve $( Z^TZ + \\lambda $diag$(Z^TZ))\\Delta A = Z^T \\Delta Y; \\quad \\Delta Y = Y-\\hat Y$\n",
    " 4. Update $A=A+\\Delta A$\n",
    " 5. Iterate until convergence"
   ]
  },
  {
   "cell_type": "code",
   "execution_count": 4,
   "metadata": {},
   "outputs": [],
   "source": [
    "# X : independent variable\n",
    "# Y : dependent variable\n",
    "# A: design variable\n",
    "# y_pred: function: returns Y^ given some A\n",
    "# J: function to calculate Jacobian Z\n",
    "def LevenMarq(A,X,Y,y_pred,J,lamb,n_iters):\n",
    "    for n in range(n_iters):\n",
    "        print('\\n# ITERATION:',n+1)\n",
    "        dY=[]\n",
    "        Z=[]\n",
    "        for i in range(len(T)):\n",
    "            dY.append(Y[i]-y_pred(A,X[i]))\n",
    "            Z.append(J(A,X[i])) # change Z accordingly include dfdc if required\n",
    "        dY=np.array(dY)\n",
    "        Z=np.array(Z)\n",
    "        Qcurr=np.matmul(Z.T,Z)\n",
    "        Q=Qcurr + lamb*np.diag(np.diag(Qcurr)) ### here is the change\n",
    "        det=np.linalg.det(Q)\n",
    "        Qinv=np.linalg.inv(Q)\n",
    "        R=np.matmul(Z.T,dY)\n",
    "        dA=np.matmul(Qinv,R)\n",
    "        print('Y_pred:',Y-dY)\n",
    "        print('dY:',dY)\n",
    "        print('Z:\\n',Z)\n",
    "        print('Z.T Z:\\n',Qcurr)\n",
    "        print('Z.T Z +lamb*diag():\\n',Q)\n",
    "        print('det::',det)\n",
    "        print('inv(Z.T Z +lamb*diag()):\\n',Qinv)\n",
    "        print('Z.T dY:',R)\n",
    "        print('dA:',dA)\n",
    "        Anew=A+dA\n",
    "        print('Anew:',Anew)\n",
    "        rel_err=[]\n",
    "        for j in range(len(A)):\n",
    "            rel_err.append((Anew[j]-A[j])/A[j])\n",
    "        print('errors:',rel_err)\n",
    "        A=Anew"
   ]
  },
  {
   "cell_type": "markdown",
   "metadata": {},
   "source": [
    "- Given a solution to a equation in heat transfer\n",
    "\n",
    "$\\hat y = a*erf(b/t); \\quad erf: error function$\n",
    "\n",
    "Solving it using Levenberg-Marquardt Algorithm"
   ]
  },
  {
   "cell_type": "code",
   "execution_count": 5,
   "metadata": {},
   "outputs": [
    {
     "name": "stdout",
     "output_type": "stream",
     "text": [
      "\n",
      "# ITERATION: 1\n",
      "Y_pred: [36.33391609 32.71107069 30.31156827 28.26379996 26.17889736 25.08602053]\n",
      "dY: [9.58608391 8.89892931 7.55843173 6.83620004 6.51110264 6.20397947]\n",
      "Z:\n",
      " [[0.72667832 3.99735528]\n",
      " [0.65422141 4.0194144 ]\n",
      " [0.60623137 3.94168759]\n",
      " [0.565276   3.82813671]\n",
      " [0.52357795 3.67432921]\n",
      " [0.50172041 3.58007223]]\n",
      "Z.T Z:\n",
      " [[ 2.1689777  13.80789991]\n",
      " [13.80789991 88.64368541]]\n",
      "Z.T Z +lamb*diag():\n",
      " [[  3.25346655  13.80789991]\n",
      " [ 13.80789991 132.96552811]]\n",
      "det:: 241.9407986766073\n",
      "inv(Z.T Z +lamb*diag()):\n",
      " [[ 0.54957878 -0.0570714 ]\n",
      " [-0.0570714   0.01344737]]\n",
      "Z.T dY: [ 27.75610056 176.18498187]\n",
      "dA: [5.19904035 0.7851445 ]\n",
      "Anew: [55.19904035  6.7851445 ]\n",
      "errors: [0.10398080700027364, 0.13085741670189233]\n",
      "\n",
      "# ITERATION: 2\n",
      "Y_pred: [43.30792778 39.39328601 36.71585137 34.38641402 31.97811276 30.70248104]\n",
      "dY: [2.61207222 2.21671399 1.15414863 0.71358598 0.71188724 0.58751896]\n",
      "Z:\n",
      " [[0.78457755 3.73315017]\n",
      " [0.71365889 3.92015253]\n",
      " [0.6651538  3.93195084]\n",
      " [0.62295311 3.88153765]\n",
      " [0.57932371 3.7795377 ]\n",
      " [0.55621404 3.70753802]]\n",
      "Z.T Z:\n",
      " [[ 2.60036112 15.011726  ]\n",
      " [15.011726   87.86132135]]\n",
      "Z.T Z +lamb*diag():\n",
      " [[  3.90054167  15.011726  ]\n",
      " [ 15.011726   131.79198202]]\n",
      "det:: 288.7082004657363\n",
      "inv(Z.T Z +lamb*diag()):\n",
      " [[ 0.45648853 -0.05199619]\n",
      " [-0.05199619  0.01351033]]\n",
      "Z.T dY: [ 5.58276728 30.61783491]\n",
      "dA: [0.95645851 0.12337429]\n",
      "Anew: [56.15549886  6.90851879]\n",
      "errors: [0.01732744822863847, 0.018183000616145358]\n"
     ]
    }
   ],
   "source": [
    "def y_pred(A,t): return A[0]*math.erf(A[1]/math.sqrt(t))\n",
    "def dfda(A,t): return math.erf(A[1]/math.sqrt(t))\n",
    "def dfdb(A,t): return (2*A[0]/((pi*t)**0.5))*(pow(e,-A[1]*A[1]/t))\n",
    "def J1(A,t): return [dfda(A,t),dfdb(A,t)]\n",
    "T=np.array([60,81,99,118,142,157])\n",
    "Y=np.array([45.92,41.61 ,37.87, 35.10, 32.69 ,31.29])\n",
    "A0=np.array([50,6])\n",
    "lamb=0.5\n",
    "LevenMarq(A0,T,Y,y_pred,J1,lamb,2)"
   ]
  },
  {
   "cell_type": "code",
   "execution_count": null,
   "metadata": {},
   "outputs": [],
   "source": []
  },
  {
   "cell_type": "code",
   "execution_count": null,
   "metadata": {},
   "outputs": [],
   "source": []
  },
  {
   "cell_type": "code",
   "execution_count": null,
   "metadata": {},
   "outputs": [],
   "source": []
  }
 ],
 "metadata": {
  "kernelspec": {
   "display_name": "Python 3",
   "language": "python",
   "name": "python3"
  },
  "language_info": {
   "codemirror_mode": {
    "name": "ipython",
    "version": 3
   },
   "file_extension": ".py",
   "mimetype": "text/x-python",
   "name": "python",
   "nbconvert_exporter": "python",
   "pygments_lexer": "ipython3",
   "version": "3.7.6"
  }
 },
 "nbformat": 4,
 "nbformat_minor": 4
}
