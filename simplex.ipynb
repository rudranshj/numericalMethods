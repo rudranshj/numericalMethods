{
 "cells": [
  {
   "cell_type": "code",
   "execution_count": 1,
   "metadata": {},
   "outputs": [],
   "source": [
    "import numpy as np\n",
    "import matplotlib.pyplot as plt\n",
    "import math\n",
    "\n",
    "e=np.e\n",
    "pi=np.pi\n",
    "inf=math.inf"
   ]
  },
  {
   "cell_type": "code",
   "execution_count": 12,
   "metadata": {},
   "outputs": [],
   "source": [
    "def pivot(Z,b,i0,j0):\n",
    "    p=Z[i0][j0]\n",
    "    for i in range(len(Z)):\n",
    "        if i==i0: continue\n",
    "        else:\n",
    "            q=Z[i][j0]\n",
    "            Z[i]=p*Z[i]-q*Z[i0]\n",
    "            b[i]=p*b[i]-q*b[i0]\n",
    "    return Z,b\n",
    "\n",
    "def simplex(Z,b):\n",
    "    n_iter=0\n",
    "    print('iteration:',n_iter)\n",
    "    print('Z=',Z,sep='')\n",
    "    print('b=',b)\n",
    "    while any(Z[-1]<0):\n",
    "        n_iter+=1\n",
    "        print('iteration:',n_iter)\n",
    "        j0=np.argmin(Z[[-1]])\n",
    "        print('s=',j0+1)\n",
    "        i_arr=[]\n",
    "        for i in range(len(Z)):\n",
    "            if Z[i][j0]>0: i_arr.append(b[i]/Z[i][j0])\n",
    "            else: i_arr.append(np.Inf)\n",
    "        i0=np.argmin(i_arr)\n",
    "        print('r=',i0+1)\n",
    "        Z,b=pivot(Z,b,i0,j0)\n",
    "        print('Z=',Z,sep='')\n",
    "        print('b=',b)\n",
    "    return Z,b"
   ]
  },
  {
   "cell_type": "code",
   "execution_count": 13,
   "metadata": {},
   "outputs": [
    {
     "name": "stdout",
     "output_type": "stream",
     "text": [
      "iteration: 0\n",
      "Z=[[ 4.8e+00  2.5e+00  1.0e+00  0.0e+00  0.0e+00  0.0e+00]\n",
      " [ 1.0e+00  0.0e+00  0.0e+00  1.0e+00  0.0e+00  0.0e+00]\n",
      " [ 0.0e+00  1.0e+00  0.0e+00  0.0e+00  1.0e+00  0.0e+00]\n",
      " [ 4.6e+00  2.3e+00  0.0e+00  0.0e+00  0.0e+00  1.0e+00]\n",
      " [-1.2e+04 -3.0e+03  0.0e+00  0.0e+00  0.0e+00  0.0e+00]]\n",
      "b= [6800.+0.j  500.+0.j 5000.+0.j 7200.+0.j    0.+1.j]\n",
      "iteration: 1\n",
      "s= 1\n",
      "r= 2\n",
      "Z=[[ 0.0e+00  2.5e+00  1.0e+00 -4.8e+00  0.0e+00  0.0e+00]\n",
      " [ 1.0e+00  0.0e+00  0.0e+00  1.0e+00  0.0e+00  0.0e+00]\n",
      " [ 0.0e+00  1.0e+00  0.0e+00  0.0e+00  1.0e+00  0.0e+00]\n",
      " [ 0.0e+00  2.3e+00  0.0e+00 -4.6e+00  0.0e+00  1.0e+00]\n",
      " [ 0.0e+00 -3.0e+03  0.0e+00  1.2e+04  0.0e+00  0.0e+00]]\n",
      "b= [4.4e+03+0.j 5.0e+02+0.j 5.0e+03+0.j 4.9e+03+0.j 6.0e+06+1.j]\n",
      "iteration: 2\n",
      "s= 2\n",
      "r= 1\n",
      "Z=[[ 0.00e+00  2.50e+00  1.00e+00 -4.80e+00  0.00e+00  0.00e+00]\n",
      " [ 2.50e+00  0.00e+00  0.00e+00  2.50e+00  0.00e+00  0.00e+00]\n",
      " [ 0.00e+00  0.00e+00 -1.00e+00  4.80e+00  2.50e+00  0.00e+00]\n",
      " [ 0.00e+00  0.00e+00 -2.30e+00 -4.60e-01  0.00e+00  2.50e+00]\n",
      " [ 0.00e+00  0.00e+00  3.00e+03  1.56e+04  0.00e+00  0.00e+00]]\n",
      "b= [4.40e+03+0.j  1.25e+03+0.j  8.10e+03+0.j  2.13e+03+0.j  2.82e+07+2.5j]\n"
     ]
    }
   ],
   "source": [
    "Z=np.array([[4.8,2.5,1,0,0,0],[1,0,0,1,0,0],[0,1,0,0,1,0],[4.6,2.3,0,0,0,1],[-12000,-3000,0,0,0,0]])\n",
    "b=np.array([6800,500,5000,7200,1j])\n",
    "Zf,bf=simplex(Z,b)"
   ]
  },
  {
   "cell_type": "code",
   "execution_count": null,
   "metadata": {},
   "outputs": [],
   "source": []
  }
 ],
 "metadata": {
  "kernelspec": {
   "display_name": "Python 3",
   "language": "python",
   "name": "python3"
  },
  "language_info": {
   "codemirror_mode": {
    "name": "ipython",
    "version": 3
   },
   "file_extension": ".py",
   "mimetype": "text/x-python",
   "name": "python",
   "nbconvert_exporter": "python",
   "pygments_lexer": "ipython3",
   "version": "3.7.6"
  }
 },
 "nbformat": 4,
 "nbformat_minor": 4
}
