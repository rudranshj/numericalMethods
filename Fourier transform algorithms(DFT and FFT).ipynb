{
 "cells": [
  {
   "cell_type": "markdown",
   "metadata": {},
   "source": [
    "# Fourier Transform\n",
    "### Discrete Fourier Transform, Fast Fourier Transform (DIT, DIF)"
   ]
  },
  {
   "cell_type": "code",
   "execution_count": 3,
   "metadata": {},
   "outputs": [],
   "source": [
    "import numpy as np\n",
    "import math\n",
    "import matplotlib.pyplot as plt\n",
    "\n",
    "pi=np.pi\n",
    "e=np.e\n",
    "inf=np.inf"
   ]
  },
  {
   "cell_type": "markdown",
   "metadata": {},
   "source": [
    "## DFT\n",
    "Discrete Fourier Transform\n"
   ]
  },
  {
   "cell_type": "code",
   "execution_count": 4,
   "metadata": {},
   "outputs": [],
   "source": [
    "def DFT_forward(x):\n",
    "    N=len(x)\n",
    "    w = np.power(e, -2*pi*1j/N)\n",
    "    F = []\n",
    "    for i in range(N):\n",
    "        F_=[]\n",
    "        for j in range(N): F_.append(w**(i*j))\n",
    "        F.append(F_)\n",
    "    F = np.array(F)\n",
    "    X = np.matmul(F,x)\n",
    "    return X\n",
    "\n",
    "def DFT_inverse(X):\n",
    "    N = len(X)\n",
    "    wc = np.power(e, 2*pi*1j/N)\n",
    "    Fc = []\n",
    "    for i in range(N):\n",
    "        Fc_=[]\n",
    "        for j in range(N): Fc_.append(wc**(i*j))\n",
    "        Fc.append(Fc_)\n",
    "    Fc = np.array(Fc)\n",
    "    x = np.matmul(Fc,X)\n",
    "    return (1/N)*x"
   ]
  },
  {
   "cell_type": "markdown",
   "metadata": {},
   "source": [
    "## FFT : DIT\n",
    "Fast Fourier Transform - Decimation in Time"
   ]
  },
  {
   "cell_type": "code",
   "execution_count": 5,
   "metadata": {},
   "outputs": [],
   "source": [
    "def FFT_forw_time(x): # recursion :), pass np arrays\n",
    "    N = len(x)\n",
    "    if N%2>0 : raise ValueError(\" N == 2**p : False\")\n",
    "    if N<=16: return DFT_forward(x)\n",
    "    xe,xo=FFT_forw_time(x[::2]),FFT_forw_time(x[1::2]) # even and odd\n",
    "    ws = np.exp(-2*pi*1j*np.arange(N)/N)\n",
    "    return np.concatenate([xe + ws[: N//2] * xo , xe + ws[N//2 :] * xo])\n",
    "    \n",
    "def FFT_inv_time_util(X):\n",
    "    N = len(X)\n",
    "    if N%2>0 : raise ValueError(\" N == 2**p : False\")\n",
    "    if N<=16: return N*DFT_inverse(X)\n",
    "    Xe,Xo=FFT_inv_time_util(X[::2]),FFT_inv_time_util(X[1::2]) # even and odd\n",
    "    ws = np.exp(2*pi*1j*np.arange(N)/N)\n",
    "    return np.concatenate([Xe + ws[: N//2] * Xo , Xe + ws[N//2 :] * Xo])\n",
    "\n",
    "def FFT_inv_time(X):\n",
    "    N=len(X)\n",
    "    return (1/N)*FFT_inv_time_util(X)"
   ]
  },
  {
   "cell_type": "markdown",
   "metadata": {},
   "source": [
    "## FFT : DIF\n",
    "Fast Fourier Transform - Decimation in Frequency"
   ]
  },
  {
   "cell_type": "code",
   "execution_count": 6,
   "metadata": {},
   "outputs": [],
   "source": [
    "def FFT_forw_freq(x): # strictly pass numpy array\n",
    "    N=len(x)\n",
    "    if N%2 >0: raise ValueError(\" N == 2**p : False\")\n",
    "    if N<=16: return DFT_forward(x)\n",
    "    xl,xr = x[: N//2],x[N//2 :]\n",
    "    Xe = FFT_forw_freq(xl+xr)\n",
    "    wns = np.exp(-2*pi*1j*np.arange(N//2)/N)\n",
    "    Xo = FFT_forw_freq((xl-xr)*wns)\n",
    "    X = np.vstack((Xe,Xo)).ravel(order='F')\n",
    "    return X\n",
    "    \n",
    "def FFT_inv_freq_util(X):\n",
    "    N=len(X)\n",
    "    if N%2 >0: raise ValueError(\" N == 2**p : False\")\n",
    "    if N<=16: return N*DFT_inverse(X)\n",
    "    Xl,Xr=X[:N//2],X[N//2:]\n",
    "    xe = FFT_inv_freq_util(Xl+Xr)\n",
    "    wns = np.exp(2*pi*1j*np.arange(N//2)/N)\n",
    "    xo = FFT_inv_freq_util((Xl-Xr)*wns)\n",
    "    x = np.vstack((xe,xo)).ravel(order='F')\n",
    "    return x\n",
    "\n",
    "def FFT_inv_freq(X):\n",
    "    N=len(X)\n",
    "    return (1/N)*FFT_inv_freq_util(X)\n",
    "\n"
   ]
  },
  {
   "cell_type": "markdown",
   "metadata": {},
   "source": [
    "### Verify the code:"
   ]
  },
  {
   "cell_type": "code",
   "execution_count": 7,
   "metadata": {},
   "outputs": [
    {
     "name": "stdout",
     "output_type": "stream",
     "text": [
      "True\n",
      "True\n",
      "True\n",
      "True\n"
     ]
    }
   ],
   "source": [
    "x=np.random.random(256)\n",
    "X1=FFT_forw_freq(x)\n",
    "X2=FFT_forw_time(x)\n",
    "print(np.allclose(X1,np.fft.fft(x)))\n",
    "print(np.allclose(X2,np.fft.fft(x)))\n",
    "\n",
    "x1=FFT_inv_freq(X2)\n",
    "x2=FFT_inv_time(X1)\n",
    "print(np.allclose(x1,x))\n",
    "print(np.allclose(x2,x))"
   ]
  }
 ],
 "metadata": {
  "kernelspec": {
   "display_name": "Python 3",
   "language": "python",
   "name": "python3"
  },
  "language_info": {
   "codemirror_mode": {
    "name": "ipython",
    "version": 3
   },
   "file_extension": ".py",
   "mimetype": "text/x-python",
   "name": "python",
   "nbconvert_exporter": "python",
   "pygments_lexer": "ipython3",
   "version": "3.7.6"
  }
 },
 "nbformat": 4,
 "nbformat_minor": 4
}
