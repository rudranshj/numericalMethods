{
 "cells": [
  {
   "cell_type": "markdown",
   "metadata": {},
   "source": [
    "# Non-linear regression | Levenberg Algorithm\n",
    "\n",
    "Author: Rudransh Jaiswal"
   ]
  },
  {
   "cell_type": "code",
   "execution_count": 1,
   "metadata": {},
   "outputs": [],
   "source": [
    "import numpy as np\n",
    "import math\n",
    "pi=np.pi\n",
    "e=np.e"
   ]
  },
  {
   "cell_type": "markdown",
   "metadata": {},
   "source": [
    "## Levenberg Algorithm\n",
    " It is known that $ \\hat y = f(\\bar A,x);\\quad A=[a,b,c..]$\n",
    " \n",
    " Given some values of x and y, we have to find estimate of $\\bar A$, but the equation cannot be linearised and hence the usual least square (min. L2-norm) cannot be applied.\n",
    " \n",
    " We solve it iteratively:\n",
    " 1. Initialise $\\bar A$ to some constant.\n",
    " 2. Calculate Jacobian\n",
    " $ Z = \\begin{bmatrix}\n",
    "\\frac{\\partial f}{\\partial a}\\Bigr\\rvert_{x1} & \\frac{\\partial f}{\\partial b}\\Bigr\\rvert_{x1} & \\frac{\\partial f}{\\partial c}\\Bigr\\rvert_{x1}\\\\\n",
    "\\frac{\\partial f}{\\partial a}\\Bigr\\rvert_{x2} & \\frac{\\partial f}{\\partial b}\\Bigr\\rvert_{x2} & \\frac{\\partial f}{\\partial c}\\Bigr\\rvert_{x2}\\\\\n",
    ". & . & .\n",
    "\\end{bmatrix} $\n",
    " \n",
    " 3. Solve $( Z^TZ + \\lambda I)\\Delta A = Z^T \\Delta Y; \\quad \\Delta Y = Y-\\hat Y$\n",
    " 4. Update $A=A+\\Delta A$\n",
    " 5. Iterate until convergence"
   ]
  },
  {
   "cell_type": "code",
   "execution_count": 2,
   "metadata": {},
   "outputs": [],
   "source": [
    "# X : independent variable\n",
    "# Y : dependent variable\n",
    "# A: design variable\n",
    "# y_pred: function: returns Y^ given some A\n",
    "# J: function to calculate Jacobian Z\n",
    "\n",
    "\n",
    "def Levenberg(A,X,Y,y_pred,J,lamb,n_iters):\n",
    "    for n in range(n_iters):\n",
    "        print('\\n# ITERATION:',n+1)\n",
    "        dY=[]\n",
    "        Z=[]\n",
    "        for i in range(len(X)):\n",
    "            dY.append(Y[i]-y_pred(A,X[i]))\n",
    "            Z.append(J(A,X[i])) # change Z accordingly include dfdc if required\n",
    "        dY=np.array(dY)\n",
    "        Z=np.array(Z)\n",
    "        Qcurr=np.matmul(Z.T,Z)\n",
    "        Q=Qcurr + lamb*np.identity(len(Qcurr)) ### here is the change\n",
    "        det=np.linalg.det(Q)\n",
    "        Qinv=np.linalg.inv(Q)\n",
    "        R=np.matmul(Z.T,dY)\n",
    "        dA=np.matmul(Qinv,R)\n",
    "        print('Y_pred:',Y-dY)\n",
    "        print('dY:',dY)\n",
    "        print('Z:\\n',Z)\n",
    "        print('Z.T Z:\\n',Qcurr)\n",
    "        print('Z.T Z + lamb*I :\\n',Q)\n",
    "        print('det::',det)\n",
    "        print('inv(Z.T Z + lamb*I):\\n',Qinv)\n",
    "        print('Z.T dY:',R)\n",
    "        print('dA:',dA)\n",
    "        Anew=A+dA\n",
    "        print('Anew:',Anew)\n",
    "        rel_err=[]\n",
    "        for j in range(len(A)):\n",
    "            rel_err.append((Anew[j]-A[j])/A[j])\n",
    "        print('errors:',rel_err)\n",
    "        A=Anew"
   ]
  },
  {
   "cell_type": "markdown",
   "metadata": {},
   "source": [
    "- Given a solution to a equation in heat transfer\n",
    "\n",
    "$\\hat y = a*erf(b/t); \\quad erf: error function$\n",
    "\n",
    "Solving it using Levenberg Algorithm"
   ]
  },
  {
   "cell_type": "code",
   "execution_count": 3,
   "metadata": {},
   "outputs": [
    {
     "name": "stdout",
     "output_type": "stream",
     "text": [
      "\n",
      "# ITERATION: 1\n",
      "Y_pred: [36.33391609 32.71107069 30.31156827 28.26379996 26.17889736 25.08602053]\n",
      "dY: [9.58608391 8.89892931 7.55843173 6.83620004 6.51110264 6.20397947]\n",
      "Z:\n",
      " [[0.72667832 3.99735528]\n",
      " [0.65422141 4.0194144 ]\n",
      " [0.60623137 3.94168759]\n",
      " [0.565276   3.82813671]\n",
      " [0.52357795 3.67432921]\n",
      " [0.50172041 3.58007223]]\n",
      "Z.T Z:\n",
      " [[ 2.1689777  13.80789991]\n",
      " [13.80789991 88.64368541]]\n",
      "Z.T Z + lamb*I :\n",
      " [[ 2.6689777  13.80789991]\n",
      " [13.80789991 89.14368541]]\n",
      "det:: 47.26440884307247\n",
      "inv(Z.T Z + lamb*I):\n",
      " [[ 1.88606369 -0.2921416 ]\n",
      " [-0.2921416   0.05646908]]\n",
      "Z.T dY: [ 27.75610056 176.18498187]\n",
      "dA: [0.87881141 1.84029235]\n",
      "Anew: [50.87881141  7.84029235]\n",
      "errors: [0.01757622821303286, 0.306715390874538]\n",
      "\n",
      "# ITERATION: 2\n",
      "Y_pred: [43.12968423 39.78949958 37.38980984 35.23929913 32.96300789 31.73784567]\n",
      "dY: [ 2.79031577  1.82050042  0.48019016 -0.13929913 -0.27300789 -0.44784567]\n",
      "Z:\n",
      " [[0.84769441 2.66060475]\n",
      " [0.7820446  2.98653262]\n",
      " [0.73487978 3.1011032 ]\n",
      " [0.69261247 3.13915206]\n",
      " [0.64787299 3.12497614]\n",
      " [0.62379299 3.09744029]]\n",
      "Z.T Z:\n",
      " [[ 3.158797   13.00088457]\n",
      " [13.00088457 54.82892375]]\n",
      "Z.T Z + lamb*I :\n",
      " [[ 3.658797   13.00088457]\n",
      " [13.00088457 55.32892375]]\n",
      "det:: 33.414300764912966\n",
      "inv(Z.T Z + lamb*I):\n",
      " [[ 1.65584563 -0.38908145]\n",
      " [-0.38908145  0.10949794]]\n",
      "Z.T dY: [ 3.58921191 11.67243101]\n",
      "dA: [ 1.40165446 -0.11838865]\n",
      "Anew: [52.28046587  7.72190369]\n",
      "errors: [0.02754888370296884, -0.015100030548043222]\n"
     ]
    }
   ],
   "source": [
    "        \n",
    "def y_pred(A,t): return A[0]*math.erf(A[1]/math.sqrt(t))\n",
    "def dfda(A,t): return math.erf(A[1]/math.sqrt(t))\n",
    "def dfdb(A,t): return (2*A[0]/((pi*t)**0.5))*(pow(e,-A[1]*A[1]/t))\n",
    "def J1(A,t): return [dfda(A,t),dfdb(A,t)]\n",
    "\n",
    "T=np.array([60,81,99,118,142,157])\n",
    "Y=np.array([45.92,41.61 ,37.87, 35.10, 32.69 ,31.29])\n",
    "A0=np.array([50,6])\n",
    "lamb=0.5\n",
    "Levenberg(A0,T,Y,y_pred,J1,lamb,2)"
   ]
  },
  {
   "cell_type": "code",
   "execution_count": null,
   "metadata": {},
   "outputs": [],
   "source": []
  },
  {
   "cell_type": "code",
   "execution_count": null,
   "metadata": {},
   "outputs": [],
   "source": []
  }
 ],
 "metadata": {
  "kernelspec": {
   "display_name": "Python 3",
   "language": "python",
   "name": "python3"
  },
  "language_info": {
   "codemirror_mode": {
    "name": "ipython",
    "version": 3
   },
   "file_extension": ".py",
   "mimetype": "text/x-python",
   "name": "python",
   "nbconvert_exporter": "python",
   "pygments_lexer": "ipython3",
   "version": "3.7.6"
  }
 },
 "nbformat": 4,
 "nbformat_minor": 4
}
