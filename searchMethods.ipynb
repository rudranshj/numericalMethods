{
 "cells": [
  {
   "cell_type": "code",
   "execution_count": 1,
   "metadata": {},
   "outputs": [],
   "source": [
    "import numpy as np\n",
    "import matplotlib.pyplot as plt\n",
    "import math\n",
    "\n",
    "e=np.e\n",
    "pi=np.pi\n",
    "inf=math.inf"
   ]
  },
  {
   "cell_type": "code",
   "execution_count": 31,
   "metadata": {},
   "outputs": [],
   "source": [
    "Fibb=[1,1]\n",
    "for i in range(50):\n",
    "    Fibb.append(Fibb[-1]+Fibb[-2])\n",
    "    \n",
    "def twoPtTest(intvl,x1,x2,F):\n",
    "    x1,x2=min(x1,x2),max(x1,x2)\n",
    "    a,b=intvl[0],intvl[1]\n",
    "    f1=F(x1)\n",
    "    f2=F(x2)\n",
    "#     print('f1<f2:',f1<f2)\n",
    "    if f1<f2: return [a,x2] #eliminate [a,x1]\n",
    "    elif f1>f2: return [x1,b] #eliminate [x2,b]\n",
    "    elif f1==f2: return [x1,x2] #eliminate [a,x1] and [x2,b]\n",
    "    \n",
    "def dicht_srch(intvl,delta,F,tol):\n",
    "    # dont set delta too high\n",
    "    err=10\n",
    "    n_iters=0\n",
    "    while err>=tol:\n",
    "        n_iters+=1\n",
    "        l0=intvl[1]-intvl[0]\n",
    "        x1 = intvl[0] + l0/2 - delta/2\n",
    "        x2 = intvl[0] + l0/2 + delta/2\n",
    "        intvl=twoPtTest(intvl,x1,x2,F)\n",
    "        err=intvl[1]-intvl[0]\n",
    "    print('Dichotomous search:','n_iters:',n_iters,'intvl:',intvl)\n",
    "    return intvl\n",
    "\n",
    "def fibb_search(intvl,n,F,tol):\n",
    "    I=intvl[1]-intvl[0]\n",
    "    i=0\n",
    "    err=10\n",
    "    while err>=tol:\n",
    "        i+=1\n",
    "        I = I*Fibb[n-i-1]/Fibb[n-i]\n",
    "        x1, x2 = intvl[1]-I, intvl[0]+I #b-I and a+I\n",
    "        intvl=twoPtTest(intvl,x1,x2,F)\n",
    "        err=intvl[1]-intvl[0]\n",
    "    print('Fibbonacci search:','n_iters',i,'intvl',intvl)\n",
    "    return intvl\n",
    "\n",
    "g_ratio=((np.sqrt(5)-1)/2)\n",
    "def golden_search(intvl,tol,F):\n",
    "    I=intvl[1]-intvl[0]\n",
    "    err=10\n",
    "    n_iters=0\n",
    "    while err>=tol:\n",
    "        n_iters+=1\n",
    "        I = I*g_ratio\n",
    "        x1, x2 = intvl[1]-I, intvl[0]+I #b-I and a+I\n",
    "        intvl=twoPtTest(intvl,x1,x2,F)\n",
    "        err=intvl[1]-intvl[0]\n",
    "    print('Golden Section search:','n_iters:',n_iters,'intvl:',intvl)\n",
    "    return intvl"
   ]
  },
  {
   "cell_type": "code",
   "execution_count": 33,
   "metadata": {},
   "outputs": [
    {
     "name": "stdout",
     "output_type": "stream",
     "text": [
      "Dichotomous search: n_iters: 46 intvl: [4.49758450985296, 4.497684509852959]\n",
      "q/p at midpoint: 6.677724706082516\n",
      "---------\n",
      "Fibbonacci search: n_iters 23 intvl [4.497674108630458, 4.497674108630458]\n",
      "q/p at midpoint: 6.677724705969492\n",
      "---------\n",
      "Golden Section search: n_iters: 24 intvl: [4.497586392326458, 4.497673196207564]\n",
      "q/p at midpoint: 6.6777247060809115\n"
     ]
    }
   ],
   "source": [
    "## func1 = lambda v: -(2.6 + 7*pow(v,0.3))/(1.8 + 0.01*pow(v,2.1))\n",
    "intvl=[1,10]\n",
    "\n",
    "delta=0.0001\n",
    "dsrch1=dicht_srch(intvl,delta,func1,1e-4)\n",
    "print('q/p at midpoint:',-func1((dsrch1[0]+dsrch1[1])/2))\n",
    "print('---------')\n",
    "fibsrch1=fibb_search(intvl,25,func1,1e-4)\n",
    "print('q/p at midpoint:',-func1((fibsrch1[1]+fibsrch1[0])/2))\n",
    "print('---------')\n",
    "goldsrch1=golden_search(intvl,1e-4,func1)\n",
    "print('q/p at midpoint:',-func1((goldsrch1[1]+goldsrch1[0])/2))\n",
    "\n"
   ]
  },
  {
   "cell_type": "code",
   "execution_count": null,
   "metadata": {},
   "outputs": [],
   "source": []
  }
 ],
 "metadata": {
  "kernelspec": {
   "display_name": "Python 3",
   "language": "python",
   "name": "python3"
  },
  "language_info": {
   "codemirror_mode": {
    "name": "ipython",
    "version": 3
   },
   "file_extension": ".py",
   "mimetype": "text/x-python",
   "name": "python",
   "nbconvert_exporter": "python",
   "pygments_lexer": "ipython3",
   "version": "3.7.6"
  }
 },
 "nbformat": 4,
 "nbformat_minor": 4
}
